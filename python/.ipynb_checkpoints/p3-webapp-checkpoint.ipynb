{
 "cells": [
  {
   "cell_type": "markdown",
   "metadata": {},
   "source": [
    "## web app 部署问题：\n",
    "\n",
    "- 一个 python 解释器只能一行行的处理每个请求触发的代码块，若是同时有两个请求过来，那么就有一个请求需要等待 python 解释器 将上一个请求执行完毕才能处理它\n",
    "\n",
    "- 支持 https 协议\n",
    "\n",
    "- 静态文件的处理\n",
    "\n",
    "- 服务宕机处理\n",
    "\n",
    "- scale up 动态扩容\n",
    "\n",
    "## 一个完整的 python web-app 架构\n",
    "\n",
    "- Web Server (nginx、apache 服务器，可以用于放置静态文件)\n",
    "\n",
    "- WSGI Server (应用服务器，是 web服务器 和 web应用 的中间服务器，用于定义通信标准，可以理解为是一个中间件或守护进程)\n",
    "\n",
    "- server.py (应用程序)"
   ]
  }
 ],
 "metadata": {
  "kernelspec": {
   "display_name": "Python 3",
   "language": "python",
   "name": "python3"
  },
  "language_info": {
   "codemirror_mode": {
    "name": "ipython",
    "version": 3
   },
   "file_extension": ".py",
   "mimetype": "text/x-python",
   "name": "python",
   "nbconvert_exporter": "python",
   "pygments_lexer": "ipython3",
   "version": "3.7.5"
  }
 },
 "nbformat": 4,
 "nbformat_minor": 4
}
